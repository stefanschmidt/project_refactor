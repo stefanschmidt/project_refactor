{
 "cells": [
  {
   "cell_type": "markdown",
   "metadata": {
    "id": "K_TKxcEmZm0D"
   },
   "source": [
    "# MLFlow"
   ]
  },
  {
   "cell_type": "markdown",
   "metadata": {
    "id": "YpkoXjKgpV_Z"
   },
   "source": [
    "## Logging to a remote server:"
   ]
  },
  {
   "cell_type": "code",
   "execution_count": null,
   "metadata": {
    "colab": {
     "base_uri": "https://localhost:8080/"
    },
    "id": "MikNPYF9-czt",
    "outputId": "8f93e353-a026-4913-fcaf-b99b59af096c"
   },
   "outputs": [],
   "source": [
    "!pip -q install mlflow pycaret"
   ]
  },
  {
   "cell_type": "code",
   "execution_count": null,
   "metadata": {
    "colab": {
     "base_uri": "https://localhost:8080/"
    },
    "id": "ci0oiGH7aPGZ",
    "outputId": "8b90dcd7-b8f1-422e-a3b1-5ab3cb9776aa"
   },
   "outputs": [],
   "source": [
    "!pip list"
   ]
  },
  {
   "cell_type": "code",
   "execution_count": null,
   "metadata": {
    "colab": {
     "base_uri": "https://localhost:8080/"
    },
    "id": "5TxWKMYz-zst",
    "outputId": "2564d555-cb4c-436a-a5ff-2dd7c6300652"
   },
   "outputs": [],
   "source": [
    "%env MLFLOW_TRACKING_URI='...'"
   ]
  },
  {
   "cell_type": "code",
   "execution_count": null,
   "metadata": {
    "id": "k7MviF9m8uzw"
   },
   "outputs": [],
   "source": [
    "import pandas as pd\n",
    "df = pd.read_csv('telecom_users_preprocessed.csv', index_col=0)"
   ]
  },
  {
   "cell_type": "code",
   "execution_count": null,
   "metadata": {
    "colab": {
     "base_uri": "https://localhost:8080/",
     "height": 290
    },
    "id": "bMOoDoNF9D1x",
    "outputId": "730b65b6-e7e6-45b3-b9ae-a2cd389870ff"
   },
   "outputs": [],
   "source": [
    "df.head()"
   ]
  },
  {
   "cell_type": "markdown",
   "metadata": {
    "id": "Wz8TiDiMptC_"
   },
   "source": [
    "### With PyCaret:\n",
    "\n",
    "Make sure to set `log_experiment = True` in `setup()`."
   ]
  },
  {
   "cell_type": "code",
   "execution_count": null,
   "metadata": {
    "colab": {
     "base_uri": "https://localhost:8080/",
     "height": 1000
    },
    "id": "c6r68K68p36U",
    "outputId": "06f488a6-327a-4c00-e305-7760b21095e7"
   },
   "outputs": [],
   "source": [
    "from pycaret.classification import *\n",
    "\n",
    "# One the three logging parameters causes an error (maybe `log_profile`)\n",
    "# AttributeError: 'ClassificationExperiment' object has no attribute 'report'\n",
    "experiment = setup(data=df,\n",
    "                   target='Churn',\n",
    "                   log_experiment=True,\n",
    "                   experiment_name='Churn_Prediction',\n",
    "                   log_plots=True,\n",
    "                   log_profile=True)"
   ]
  },
  {
   "cell_type": "markdown",
   "metadata": {
    "id": "_gn5JvrqqQKS"
   },
   "source": [
    "### Using ML Flow manually:"
   ]
  },
  {
   "cell_type": "code",
   "execution_count": null,
   "metadata": {
    "id": "jaI1pDJeWsaD"
   },
   "outputs": [],
   "source": [
    "import mlflow"
   ]
  },
  {
   "cell_type": "markdown",
   "metadata": {
    "id": "ALO2eC3CrOfO"
   },
   "source": [
    "```python\n",
    "\n",
    "with mlflow.start_run(experiment_id = 'My name'):\n",
    "  # Train model\n",
    "  # Get metrics\n",
    "  # Log parameters/metrics\n",
    "  mlflow.log_param('Model', 'ElasticNet')  \n",
    "  mlflow.log_param(\"alpha\", alpha)\n",
    "  mlflow.log_param(\"l1_ratio\", l1_ratio)\n",
    "        \n",
    "  mlflow.log_metric(\"rmse\", rmse)\n",
    "  mlflow.log_metric(\"r2\", r2)\n",
    "  mlflow.log_metric(\"mae\", mae)\n",
    "\n",
    "  # Or all together:\n",
    "  metrics = {\"mse\": 2500.00, \"rmse\": 50.00}\n",
    "  mlflow.log_metrics(metrics)\n",
    "  # same with mlflow.log_params()\n",
    "\n",
    "  # Log model\n",
    "  mlflow.sklearn.log_model(model, \"model\")\n",
    "\n",
    "  # Log tags\n",
    "  mlflow.set_experiment_tags(tags) #dict\n",
    "  \n",
    "  # Log other artifacts (files)\n",
    "  mlflow.log_artifact('local_path_to_file_or_dir')\n",
    "\n",
    "  #mlflow.log_figure\n",
    "  #mlflow.log_text\n",
    "```"
   ]
  },
  {
   "cell_type": "markdown",
   "metadata": {
    "id": "xuY2_L0ZtXAI"
   },
   "source": [
    "### Searching runs/experiments logged on server:"
   ]
  },
  {
   "cell_type": "code",
   "execution_count": null,
   "metadata": {
    "id": "agtX7Yc1tXQi"
   },
   "outputs": [],
   "source": [
    "mlflow.search_runs(filter_string=\"metrics.f1 > 0.5\", search_all_experiments=True)"
   ]
  },
  {
   "cell_type": "code",
   "execution_count": null,
   "metadata": {
    "id": "EG1uINHHZaAD"
   },
   "outputs": [],
   "source": []
  }
 ],
 "metadata": {
  "colab": {
   "provenance": []
  },
  "kernelspec": {
   "display_name": "ds",
   "language": "python",
   "name": "ds"
  },
  "language_info": {
   "codemirror_mode": {
    "name": "ipython",
    "version": 3
   },
   "file_extension": ".py",
   "mimetype": "text/x-python",
   "name": "python",
   "nbconvert_exporter": "python",
   "pygments_lexer": "ipython3",
   "version": "3.12.4"
  }
 },
 "nbformat": 4,
 "nbformat_minor": 4
}
